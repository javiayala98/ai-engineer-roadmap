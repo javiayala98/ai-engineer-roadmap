{
 "cells": [
  {
   "cell_type": "markdown",
   "id": "226b5d53",
   "metadata": {},
   "source": [
    "## Analisis exploratorio del dataset Iris de Scikit-learn \n",
    "\n",
    "- Primer projecto de mi roadmap como AI engineer.\n",
    "- Objetivo: Analizar el dataset Iris, explorando técnicas varias de manejo y visualización de datos\n",
    "- Sacar posibles conclusiones de cara al futuro modelado\n",
    "- Creación en paralelo y uso del repositorio de github\n"
   ]
  },
  {
   "cell_type": "code",
   "execution_count": 2,
   "id": "566ff427",
   "metadata": {},
   "outputs": [],
   "source": [
    "#Importar librerias necesarias\n",
    "\n",
    "import pandas as pd\n",
    "import numpy as np\n",
    "import seaborn as sns\n",
    "import matplotlib.pyplot as plt\n",
    "from sklearn.datasets import load_iris\n",
    "\n",
    "#Configuración estética\n",
    "sns.set_theme('paper','darkgrid')\n",
    "plt.rcParams[\"figure.figsize\"]=(10,6)"
   ]
  }
 ],
 "metadata": {
  "kernelspec": {
   "display_name": "Python 3",
   "language": "python",
   "name": "python3"
  },
  "language_info": {
   "codemirror_mode": {
    "name": "ipython",
    "version": 3
   },
   "file_extension": ".py",
   "mimetype": "text/x-python",
   "name": "python",
   "nbconvert_exporter": "python",
   "pygments_lexer": "ipython3",
   "version": "3.11.9"
  }
 },
 "nbformat": 4,
 "nbformat_minor": 5
}
